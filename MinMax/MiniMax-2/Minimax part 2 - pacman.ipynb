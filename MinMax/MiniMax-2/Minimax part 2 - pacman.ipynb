{
 "cells": [
  {
   "cell_type": "code",
   "execution_count": 2,
   "metadata": {},
   "outputs": [
    {
     "name": "stdout",
     "output_type": "stream",
     "text": [
      "Overwriting ReflexAgentEvalUtil.py\n"
     ]
    }
   ],
   "source": [
    "%%writefile ReflexAgentEvalUtil.py\n",
    "import util\n",
    "def reflexAgentEval(reflexAgent, currentGameState, action):\n",
    "    # Useful information you can extract from a GameState (pacman.py)\n",
    "    successorGameState = currentGameState.generatePacmanSuccessor(action)\n",
    "    newPos = successorGameState.getPacmanPosition()\n",
    "    newFood = successorGameState.getFood()\n",
    "    newGhostStates = successorGameState.getGhostStates()\n",
    "    newScaredTimes = [ghostState.scaredTimer for ghostState in newGhostStates]\n",
    "\n",
    "    if successorGameState.isWin():\n",
    "        return float(\"inf\")\n",
    "\n",
    "    for ghostState in newGhostStates:\n",
    "        if util.manhattanDistance(ghostState.getPosition(), newPos) < 2 and ghostState.scaredTimer < 3:\n",
    "            return float(\"-inf\")\n",
    "\n",
    "    foodDist = []\n",
    "    for food in list(newFood.asList()):\n",
    "        foodDist.append(util.manhattanDistance(food, newPos))\n",
    "\n",
    "    foodSuccessor = 0\n",
    "    if (currentGameState.getNumFood() > successorGameState.getNumFood()):\n",
    "        foodSuccessor = 300\n",
    "\n",
    "    return successorGameState.getScore() - 5 * min(foodDist) + foodSuccessor"
   ]
  },
  {
   "cell_type": "code",
   "execution_count": null,
   "metadata": {},
   "outputs": [],
   "source": [
    "import os\n",
    "os._exit(0)"
   ]
  },
  {
   "cell_type": "code",
   "execution_count": 1,
   "metadata": {
    "scrolled": true
   },
   "outputs": [
    {
     "name": "stdout",
     "output_type": "stream",
     "text": [
      "D:\\desktop\\ml\\uc-berkley\\MinMax\\MiniMax-2\\Pacman\n"
     ]
    }
   ],
   "source": [
    "%cd Pacman\n",
    "%run pacman.py -p ReflexAgent\n",
    "%run pacman.py -p ReflexAgent -l trickyClassic"
   ]
  },
  {
   "cell_type": "code",
   "execution_count": null,
   "metadata": {},
   "outputs": [],
   "source": [
    "%run pacman.py -g RandomGhost"
   ]
  },
  {
   "cell_type": "code",
   "execution_count": null,
   "metadata": {},
   "outputs": [],
   "source": [
    "%run pacman.py -g DirectionalGhost"
   ]
  },
  {
   "cell_type": "code",
   "execution_count": 2,
   "metadata": {},
   "outputs": [
    {
     "name": "stdout",
     "output_type": "stream",
     "text": [
      "Pacman emerges victorious! Score: 1464\n",
      "Pacman died! Score: -258\n",
      "Pacman emerges victorious! Score: 1675\n",
      "Pacman died! Score: 187\n",
      "Pacman died! Score: 424\n",
      "Average Score: 698.4\n",
      "Scores:        1464.0, -258.0, 1675.0, 187.0, 424.0\n",
      "Win Rate:      2/5 (0.40)\n",
      "Record:        Win, Loss, Win, Loss, Loss\n"
     ]
    }
   ],
   "source": [
    "%run pacman.py -p ReflexAgent -q -n 5 -k 3 -f --timeout 5"
   ]
  },
  {
   "cell_type": "code",
   "execution_count": null,
   "metadata": {},
   "outputs": [],
   "source": [
    "import os\n",
    "os._exit(0)"
   ]
  },
  {
   "cell_type": "code",
   "execution_count": null,
   "metadata": {},
   "outputs": [
    {
     "name": "stdout",
     "output_type": "stream",
     "text": [
      "[WinError 2] The system cannot find the file specified: 'Pacman'\n",
      "D:\\desktop\\ml\\uc-berkley\\MinMax\\MiniMax-2\\Pacman\n"
     ]
    }
   ],
   "source": [
    "%cd Pacman\n",
    "%run pacman.py -p AlphaBetaAgent -f"
   ]
  },
  {
   "cell_type": "code",
   "execution_count": 2,
   "metadata": {},
   "outputs": [
    {
     "name": "stdout",
     "output_type": "stream",
     "text": [
      "Overwriting AlphaBetaAgentUtil.py\n"
     ]
    }
   ],
   "source": [
    "%%writefile AlphaBetaAgentUtil.py\n",
    "from util import manhattanDistance\n",
    "from game import Directions\n",
    "from MinimaxAgentEvalUtil import minimaxAgentEval\n",
    "\n",
    "def alphaBetaAgentAction(agent, gameState):\n",
    "\n",
    "    maxValue = float(\"-inf\")\n",
    "    alpha = float(\"-inf\")\n",
    "    beta = float(\"inf\")\n",
    "    maxAction = Directions.STOP\n",
    "    for action in gameState.getLegalActions(0):\n",
    "        nextState = gameState.generateSuccessor(0, action)\n",
    "        nextValue = getValue(agent, nextState, 0, 1, alpha, beta)\n",
    "        if nextValue > maxValue:\n",
    "            maxValue = nextValue\n",
    "            maxAction = action\n",
    "        alpha = max(alpha, maxValue)\n",
    "    return maxAction\n",
    "\n",
    "def getValue(agent, gameState, currentDepth, agentIndex, alpha, beta):\n",
    "    if currentDepth == agent.depth or gameState.isWin() or gameState.isLose():\n",
    "        return minimaxAgentEval(gameState)\n",
    "    elif agentIndex == 0:\n",
    "        return maxValue(agent, gameState,currentDepth,alpha,beta)\n",
    "    else:\n",
    "        return minValue(agent, gameState,currentDepth,agentIndex,alpha,beta)\n",
    "\n",
    "def maxValue(agent, gameState, currentDepth, alpha, beta):\n",
    "    maxValue = float(\"-inf\")\n",
    "    for action in gameState.getLegalActions(0):\n",
    "        maxValue = max(maxValue, getValue(agent, gameState.generateSuccessor(0, action), currentDepth, 1, alpha, beta))\n",
    "        if maxValue > beta:\n",
    "            return maxValue\n",
    "        alpha = max(alpha, maxValue)\n",
    "    return maxValue\n",
    "\n",
    "def minValue(agent, gameState, currentDepth, agentIndex, alpha, beta):\n",
    "    minValue = float(\"inf\")\n",
    "    for action in gameState.getLegalActions(agentIndex):\n",
    "        if agentIndex == gameState.getNumAgents()-1:\n",
    "            minValue = min(minValue, getValue(agent, gameState.generateSuccessor(agentIndex, action), currentDepth+1, 0, alpha, beta))\n",
    "        else:\n",
    "            minValue = min(minValue, getValue(agent, gameState.generateSuccessor(agentIndex, action), currentDepth, agentIndex+1, alpha, beta))\n",
    "        if minValue < alpha:\n",
    "            return minValue\n",
    "        beta = min(beta, minValue)\n",
    "    return minValue"
   ]
  },
  {
   "cell_type": "code",
   "execution_count": null,
   "metadata": {},
   "outputs": [],
   "source": [
    "import os\n",
    "os._exit(0)"
   ]
  },
  {
   "cell_type": "code",
   "execution_count": 3,
   "metadata": {},
   "outputs": [
    {
     "name": "stdout",
     "output_type": "stream",
     "text": [
      "[WinError 2] The system cannot find the file specified: 'Pacman'\n",
      "D:\\desktop\\ml\\uc-berkley\\MinMax\\MiniMax-2\\Pacman\n"
     ]
    },
    {
     "ename": "SyntaxError",
     "evalue": "invalid syntax (searchAgents.py, line 74)",
     "output_type": "error",
     "traceback": [
      "\u001b[1;36m  File \u001b[1;32m\"D:\\desktop\\ml\\uc-berkley\\MinMax\\MiniMax-2\\Pacman\\searchAgents.py\"\u001b[1;36m, line \u001b[1;32m74\u001b[0m\n\u001b[1;33m    raise AttributeError, fn + ' is not a search function in search.py.'\u001b[0m\n\u001b[1;37m                        ^\u001b[0m\n\u001b[1;31mSyntaxError\u001b[0m\u001b[1;31m:\u001b[0m invalid syntax\n"
     ]
    }
   ],
   "source": [
    "%cd Pacman\n",
    "%run pacman.py -p AlphaBetaAgent -f -n 10 -q -g DirectionalGhost"
   ]
  },
  {
   "cell_type": "code",
   "execution_count": null,
   "metadata": {},
   "outputs": [],
   "source": []
  }
 ],
 "metadata": {
  "kernelspec": {
   "display_name": "Python 3",
   "language": "python",
   "name": "python3"
  },
  "language_info": {
   "codemirror_mode": {
    "name": "ipython",
    "version": 3
   },
   "file_extension": ".py",
   "mimetype": "text/x-python",
   "name": "python",
   "nbconvert_exporter": "python",
   "pygments_lexer": "ipython3",
   "version": "3.7.3"
  }
 },
 "nbformat": 4,
 "nbformat_minor": 4
}
